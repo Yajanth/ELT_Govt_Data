{
 "cells": [
  {
   "cell_type": "code",
   "execution_count": 58,
   "metadata": {},
   "outputs": [],
   "source": [
    "import pandas as pd"
   ]
  },
  {
   "cell_type": "code",
   "execution_count": 59,
   "metadata": {},
   "outputs": [
    {
     "data": {
      "text/plain": [
       "(203293, 16)"
      ]
     },
     "execution_count": 59,
     "metadata": {},
     "output_type": "execute_result"
    }
   ],
   "source": [
    "df=pd.read_csv('Full_Govt_Data.csv')\n",
    "new_df=df\n",
    "#deleting a column\n",
    "#del new_df['Source.Name']\n",
    "new_df.drop('Source.Name',inplace=True,axis=1)\n",
    "new_df.shape"
   ]
  },
  {
   "cell_type": "code",
   "execution_count": 60,
   "metadata": {},
   "outputs": [
    {
     "data": {
      "text/plain": [
       "CIN                              0\n",
       "COMPANY NAME                     0\n",
       "DATE OF REGISTRATION             0\n",
       "MONTH NAME                       0\n",
       "STATE                          234\n",
       "ROC                              0\n",
       "COMPANY STATUS                   0\n",
       "CATEGORY                         0\n",
       "CLASS                            0\n",
       "COMPANY TYPE                     0\n",
       "AUTHORIZED CAPITAL               0\n",
       "PAIDUP CAPITAL                   0\n",
       "ACTIVITY CODE                12844\n",
       "ACTIVITY DESCRIPTION             0\n",
       "REGISTERED OFFICE ADDRESS        0\n",
       "EMAIL                            0\n",
       "dtype: int64"
      ]
     },
     "execution_count": 60,
     "metadata": {},
     "output_type": "execute_result"
    }
   ],
   "source": [
    "#Checking null values\n",
    "new_df.isnull().sum()\n"
   ]
  },
  {
   "cell_type": "code",
   "execution_count": 61,
   "metadata": {},
   "outputs": [
    {
     "data": {
      "text/plain": [
       "(190449, 16)"
      ]
     },
     "execution_count": 61,
     "metadata": {},
     "output_type": "execute_result"
    }
   ],
   "source": [
    "#deleting null values\n",
    "new_df=df.dropna()\n",
    "new_df.shape"
   ]
  },
  {
   "cell_type": "code",
   "execution_count": 62,
   "metadata": {},
   "outputs": [
    {
     "data": {
      "text/plain": [
       "0         False\n",
       "1         False\n",
       "2         False\n",
       "3         False\n",
       "4         False\n",
       "          ...  \n",
       "203288    False\n",
       "203289    False\n",
       "203290    False\n",
       "203291    False\n",
       "203292    False\n",
       "Length: 190449, dtype: bool"
      ]
     },
     "execution_count": 62,
     "metadata": {},
     "output_type": "execute_result"
    }
   ],
   "source": [
    "new_df.duplicated()"
   ]
  },
  {
   "cell_type": "code",
   "execution_count": 63,
   "metadata": {},
   "outputs": [
    {
     "data": {
      "text/plain": [
       "0"
      ]
     },
     "execution_count": 63,
     "metadata": {},
     "output_type": "execute_result"
    }
   ],
   "source": [
    "new_df['CIN'].duplicated().sum()"
   ]
  },
  {
   "cell_type": "code",
   "execution_count": 64,
   "metadata": {},
   "outputs": [],
   "source": [
    "#Resetting index \n",
    "new_df.reset_index(inplace=True)"
   ]
  },
  {
   "cell_type": "code",
   "execution_count": null,
   "metadata": {},
   "outputs": [],
   "source": [
    "# new_df['COMPANY TYPE']=new_df['COMPANY TYPE'].replace(to_replace=['Guarantee and Association comp','Guarantee and Association comp ','Guarentee Associated Company'],value=['Gaurentee Associated Company','Gaurentee Associated Company','Gaurentee Associated Company'])\n",
    "# new_df['COMPANY TYPE']=new_df['COMPANY TYPE'].replace(to_replace=['Non-govt company','Non-govt company '],value=['Non Government Company','Non Government Company'])\n",
    "\n",
    "# new_df['COMPANY TYPE']=new_df['COMPANY TYPE'].replace(to_replace=['State Govt company','State Govt company '],value=['State Government Company','State Government Company'])\n",
    "# new_df['COMPANY TYPE']=new_df['COMPANY TYPE'].replace(to_replace='Subsidiary of Foreign Company ',value='Subsidiary of Foreign Company')\n",
    "# new_df['COMPANY TYPE']=new_df['COMPANY TYPE'].replace(to_replace=['Union Govt company','Union Govt company '],value=['Union Government Company','Union Government Company'])\n",
    "\n",
    "\n"
   ]
  },
  {
   "cell_type": "code",
   "execution_count": null,
   "metadata": {},
   "outputs": [],
   "source": [
    "#modifying and standardising colunm-company type\n",
    "new_df['COMPANY TYPE']=new_df['COMPANY TYPE'].replace(to_replace='Subsidiary of Foreign Company ',value='Subsidiary of Foreign Company')\n",
    "new_df['COMPANY TYPE']=new_df['COMPANY TYPE'].replace(to_replace='Guarantee and Association comp ',value='Gaurentee Associated Company')\n",
    "new_df['COMPANY TYPE']=new_df['COMPANY TYPE'].replace(to_replace='Non-govt company ',value='Non Government Company')\n",
    "new_df['COMPANY TYPE']=new_df['COMPANY TYPE'].replace(to_replace='State Govt company ',value='State Government Company')\n",
    "new_df['COMPANY TYPE']=new_df['COMPANY TYPE'].replace(to_replace='Union Govt company ',value='Union Government Company')"
   ]
  },
  {
   "cell_type": "code",
   "execution_count": null,
   "metadata": {},
   "outputs": [],
   "source": [
    "#modifying and standardising colunm-category\n",
    "new_df['COMPANY TYPE']=new_df['COMPANY TYPE'].replace(to_replace='Company limited by Shares ',value='Company limited by Shares')\n",
    "new_df['COMPANY TYPE']=new_df['COMPANY TYPE'].replace(to_replace='Company Limited by Guarantee ',value='Company Limited by Guarantee')\n",
    "new_df['COMPANY TYPE']=new_df['COMPANY TYPE'].replace(to_replace='Company Limited By Guarentee',value='Company Limited by Guarantee')\n"
   ]
  },
  {
   "cell_type": "code",
   "execution_count": null,
   "metadata": {},
   "outputs": [],
   "source": [
    "#dropping colunm month name\n",
    "new_df.drop(['MONTH NAME'],axis=1,inplace=True)\n"
   ]
  },
  {
   "cell_type": "code",
   "execution_count": 99,
   "metadata": {},
   "outputs": [
    {
     "data": {
      "text/plain": [
       "0                ROC-CHENNAI\n",
       "1                 ROC-JAIPUR\n",
       "2                 ROC-MUMBAI\n",
       "3                  ROC-PATNA\n",
       "4                ROC-CHENNAI\n",
       "                 ...        \n",
       "190444          ROC - MUMBAI\n",
       "190445          ROC - MUMBAI\n",
       "190446    ROC - CHHATTISGARH\n",
       "190447        ROC-VIJAYAWADA\n",
       "190448        ROC-VIJAYAWADA\n",
       "Name: ROC, Length: 190449, dtype: object"
      ]
     },
     "execution_count": 99,
     "metadata": {},
     "output_type": "execute_result"
    }
   ],
   "source": [
    "\n",
    "#Standardising roc colunm\n",
    "new_df['ROC'].str.upper()\n"
   ]
  },
  {
   "cell_type": "code",
   "execution_count": 96,
   "metadata": {},
   "outputs": [
    {
     "data": {
      "text/plain": [
       "Index(['index', 'CIN', 'COMPANY NAME', 'DATE OF REGISTRATION', 'STATE', 'ROC',\n",
       "       'COMPANY STATUS', 'CATEGORY', 'CLASS', 'COMPANY TYPE',\n",
       "       'AUTHORIZED CAPITAL', 'PAIDUP CAPITAL', 'ACTIVITY CODE',\n",
       "       'ACTIVITY DESCRIPTION', 'REGISTERED OFFICE ADDRESS', 'EMAIL'],\n",
       "      dtype='object')"
      ]
     },
     "execution_count": 96,
     "metadata": {},
     "output_type": "execute_result"
    }
   ],
   "source": [
    "new_df.columns"
   ]
  },
  {
   "attachments": {},
   "cell_type": "markdown",
   "metadata": {},
   "source": [
    "**CONVERTING DATA INTO EXCEL**"
   ]
  },
  {
   "cell_type": "code",
   "execution_count": 101,
   "metadata": {},
   "outputs": [],
   "source": [
    "new_df.to_excel('Data_Tranformed.xlsx')"
   ]
  }
 ],
 "metadata": {
  "kernelspec": {
   "display_name": "Python 3",
   "language": "python",
   "name": "python3"
  },
  "language_info": {
   "codemirror_mode": {
    "name": "ipython",
    "version": 3
   },
   "file_extension": ".py",
   "mimetype": "text/x-python",
   "name": "python",
   "nbconvert_exporter": "python",
   "pygments_lexer": "ipython3",
   "version": "3.10.3"
  },
  "orig_nbformat": 4,
  "vscode": {
   "interpreter": {
    "hash": "26de051ba29f2982a8de78e945f0abaf191376122a1563185a90213a26c5da77"
   }
  }
 },
 "nbformat": 4,
 "nbformat_minor": 2
}
