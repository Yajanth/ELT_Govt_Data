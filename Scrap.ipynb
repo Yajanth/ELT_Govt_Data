{
 "cells": [
  {
   "cell_type": "code",
   "execution_count": 1,
   "metadata": {},
   "outputs": [],
   "source": [
    "import pandas as pd\n",
    "import requests\n"
   ]
  },
  {
   "cell_type": "code",
   "execution_count": 2,
   "metadata": {},
   "outputs": [],
   "source": [
    "arr_url=[\n",
    "'paBkbufBFTQBsfWkPJFvzA%3D%3D',\n",
    "'wCcn7gPWS%252BccdYFGwkYbEQ%253D%253D',\n",
    "'JIiy0pXLc4BxBHuhMFKzMg%3D%3D',\n",
    "'50sNVIfVFw%2B%2BpEQk8kfQCA%3D%3D',\n",
    "'u6fk7PJ0d4n5mYqvt0GsXQ%3D%3D',\n",
    "'X1%2BcvIGnmzo8MdQIsPZO4Q%3D%3D',\n",
    "'eTusNJkJ8ZfPktZmur3Qig%253D%253D',\n",
    "'7pyMqmMhoUhjKhAQhD0lFA%3D%3D',\n",
    "'Uv7CQzO0fu9SPFdR7mwHiw',\n",
    "'UjezdLmxiU8nq2EG9%2FL9KA%3D%3D',\n",
    "'4nouBNAPaQtdxLMFkTO%2BNw%3D%3D',\n",
    "'6vC5V46kUwPAOkkHPEp2Iw%3D%3D',\n",
    "'W8fxmtx6kJaBYjHrSxJ9dw%3D%3D',\n",
    "'C4HIq6hx3B%2FRSg2u7NeYJw%3D%3D',\n",
    "'kBlvHJaYGeDpjiN7%2F0QUxA%3D%3D',\n",
    "'3Xc5XRMNmeVFHJ%2BL276HRA%3D%3D',\n",
    "'Y0gmyQjuuT4x4XKnYXOUow%3D%3D',\n",
    "'GJIwbGttIGQBFTg4IXyAew%3D%3D',\n",
    "'wwhIWlT6h3QyFG9qmTZsaA%3D%3D'\n",
    "]\n",
    "start=\"https://www.mca.gov.in/bin/dms/getdocument?mds=\"\n",
    "end='&type=download'"
   ]
  },
  {
   "cell_type": "code",
   "execution_count": null,
   "metadata": {},
   "outputs": [],
   "source": [
    "def consolid():\n",
    "    consolidated=pd.DataFrame()\n",
    "    for i in range(0,19):\n",
    "        url=start+str(arr_url[i])+end\n",
    "        data=requests.get(url)\n",
    "        output = open('test.xlsx', 'ab')\n",
    "        output.write(data.content)\n",
    "        test=pd.read_excel('test.xlsx')\n",
    "        consolidated=consolidated.append(test)\n",
    "        output.close()\n",
    "\n",
    "    consolidated.to_csv('Consolidated.csv')\n",
    "    # change=pd.read_excel('test.xlsx')\n",
    "    # change.to_csv('Consolidated.csv')\n",
    "\n"
   ]
  },
  {
   "cell_type": "code",
   "execution_count": 4,
   "metadata": {},
   "outputs": [],
   "source": [
    "\n",
    "def indivi():\n",
    "    url=start+str(arr_url[0])+end\n",
    "    data=requests.get(url)\n",
    "    output = open('2022_December.xlsx', 'wb')\n",
    "    output.write(data.content)\n",
    "    output.close()\n",
    "\n",
    "    url=start+str(arr_url[1])+end\n",
    "    data=requests.get(url)\n",
    "    output = open('2022_November.xlsx', 'wb')\n",
    "    output.write(data.content)\n",
    "    output.close()\n",
    "\n",
    "    url=start+str(arr_url[2])+end\n",
    "    data=requests.get(url)\n",
    "    output = open('2022_October.xlsx', 'wb')\n",
    "    output.write(data.content)\n",
    "    output.close()\n",
    "\n",
    "    url=start+str(arr_url[3])+end\n",
    "    data=requests.get(url)\n",
    "    output = open('2022_September.xlsx', 'wb')\n",
    "    output.write(data.content)\n",
    "    output.close()\n",
    "\n",
    "    url=start+str(arr_url[4])+end\n",
    "    data=requests.get(url)\n",
    "    output = open('2022_August.xlsx', 'wb')\n",
    "    output.write(data.content)\n",
    "    output.close()\n",
    "\n",
    "    url=start+str(arr_url[5])+end\n",
    "    data=requests.get(url)\n",
    "    output = open('2022_July.xlsx', 'wb')\n",
    "    output.write(data.content)\n",
    "    output.close()\n",
    "\n",
    "    url=start+str(arr_url[6])+end\n",
    "    data=requests.get(url)\n",
    "    output = open('2022_June.xlsx', 'wb')\n",
    "    output.write(data.content)\n",
    "    output.close()\n",
    "\n",
    "    url=start+str(arr_url[7])+end\n",
    "    data=requests.get(url)\n",
    "    output = open('2022_May.xlsx', 'wb')\n",
    "    output.write(data.content)\n",
    "    output.close()\n",
    "\n",
    "    url=start+str(arr_url[8])+end\n",
    "    data=requests.get(url)\n",
    "    output = open('2022_April.xlsx', 'wb')\n",
    "    output.write(data.content)\n",
    "    output.close()\n",
    "\n",
    "    url=start+str(arr_url[9])+end\n",
    "    data=requests.get(url)\n",
    "    output = open('2022_Febuary.xlsx', 'wb')\n",
    "    output.write(data.content)\n",
    "    output.close()\n",
    "\n",
    "    url=start+str(arr_url[10])+end\n",
    "    data=requests.get(url)\n",
    "    output = open('2022_January.xlsx', 'wb')\n",
    "    output.write(data.content)\n",
    "    output.close()\n",
    "\n",
    "    url=start+str(arr_url[11])+end\n",
    "    data=requests.get(url)\n",
    "    output = open('2021_October.xlsx', 'wb')\n",
    "    output.write(data.content)\n",
    "    output.close()\n",
    "\n",
    "    url=start+str(arr_url[12])+end\n",
    "    data=requests.get(url)\n",
    "    output = open('2021_September.xlsx', 'wb')\n",
    "    output.write(data.content)\n",
    "    output.close()\n",
    "\n",
    "    url=start+str(arr_url[13])+end\n",
    "    data=requests.get(url)\n",
    "    output = open('2021_August.xlsx', 'wb')\n",
    "    output.write(data.content)\n",
    "    output.close()\n",
    "\n",
    "    url=start+str(arr_url[14])+end\n",
    "    data=requests.get(url)\n",
    "    output = open('2021_July.xlsx', 'wb')\n",
    "    output.write(data.content)\n",
    "    output.close()\n",
    "\n",
    "    url=start+str(arr_url[15])+end\n",
    "    data=requests.get(url)\n",
    "    output = open('2021_June.xlsx', 'wb')\n",
    "    output.write(data.content)\n",
    "    output.close()\n",
    "\n",
    "    url=start+str(arr_url[16])+end\n",
    "    data=requests.get(url)\n",
    "    output = open('2021_May.xlsx', 'wb')\n",
    "    output.write(data.content)\n",
    "    output.close()\n",
    "\n",
    "    url=start+str(arr_url[17])+end\n",
    "    data=requests.get(url)\n",
    "    output = open('2021_April.xlsx', 'wb')\n",
    "    output.write(data.content)\n",
    "    output.close()\n",
    "\n",
    "    url=start+str(arr_url[18])+end\n",
    "    data=requests.get(url)\n",
    "    output = open('2021_March.xlsx', 'wb')\n",
    "    output.write(data.content)\n",
    "    output.close()\n",
    "\n",
    "\n"
   ]
  },
  {
   "cell_type": "code",
   "execution_count": 5,
   "metadata": {},
   "outputs": [
    {
     "name": "stdout",
     "output_type": "stream",
     "text": [
      "> Choose a format for data extraction: \n",
      "  1.Consolidated\n",
      "  2.Individual Files\n"
     ]
    },
    {
     "ename": "ValueError",
     "evalue": "Excel file format cannot be determined, you must specify an engine manually.",
     "output_type": "error",
     "traceback": [
      "\u001b[1;31m---------------------------------------------------------------------------\u001b[0m",
      "\u001b[1;31mValueError\u001b[0m                                Traceback (most recent call last)",
      "Cell \u001b[1;32mIn[5], line 5\u001b[0m\n\u001b[0;32m      2\u001b[0m flag\u001b[39m=\u001b[39m\u001b[39mint\u001b[39m(\u001b[39minput\u001b[39m())\n\u001b[0;32m      4\u001b[0m \u001b[39mif\u001b[39;00m flag\u001b[39m==\u001b[39m\u001b[39m1\u001b[39m:\n\u001b[1;32m----> 5\u001b[0m     consolid()\n\u001b[0;32m      6\u001b[0m \u001b[39melif\u001b[39;00m flag\u001b[39m==\u001b[39m\u001b[39m2\u001b[39m:\n\u001b[0;32m      7\u001b[0m     indivi()\n",
      "Cell \u001b[1;32mIn[3], line 8\u001b[0m, in \u001b[0;36mconsolid\u001b[1;34m()\u001b[0m\n\u001b[0;32m      6\u001b[0m output \u001b[39m=\u001b[39m \u001b[39mopen\u001b[39m(\u001b[39m'\u001b[39m\u001b[39mtest.xlsx\u001b[39m\u001b[39m'\u001b[39m, \u001b[39m'\u001b[39m\u001b[39mwb\u001b[39m\u001b[39m'\u001b[39m)\n\u001b[0;32m      7\u001b[0m output\u001b[39m.\u001b[39mwrite(data\u001b[39m.\u001b[39mcontent)\n\u001b[1;32m----> 8\u001b[0m test\u001b[39m=\u001b[39mpd\u001b[39m.\u001b[39;49mread_excel(\u001b[39m'\u001b[39;49m\u001b[39mtest.xlsx\u001b[39;49m\u001b[39m'\u001b[39;49m)\n\u001b[0;32m      9\u001b[0m consolidated\u001b[39m=\u001b[39mconsolidated\u001b[39m.\u001b[39mappend(test)\n\u001b[0;32m     10\u001b[0m output\u001b[39m.\u001b[39mclose()\n",
      "File \u001b[1;32mc:\\Program Files\\Python310\\lib\\site-packages\\pandas\\util\\_decorators.py:311\u001b[0m, in \u001b[0;36mdeprecate_nonkeyword_arguments.<locals>.decorate.<locals>.wrapper\u001b[1;34m(*args, **kwargs)\u001b[0m\n\u001b[0;32m    305\u001b[0m \u001b[39mif\u001b[39;00m \u001b[39mlen\u001b[39m(args) \u001b[39m>\u001b[39m num_allow_args:\n\u001b[0;32m    306\u001b[0m     warnings\u001b[39m.\u001b[39mwarn(\n\u001b[0;32m    307\u001b[0m         msg\u001b[39m.\u001b[39mformat(arguments\u001b[39m=\u001b[39marguments),\n\u001b[0;32m    308\u001b[0m         \u001b[39mFutureWarning\u001b[39;00m,\n\u001b[0;32m    309\u001b[0m         stacklevel\u001b[39m=\u001b[39mstacklevel,\n\u001b[0;32m    310\u001b[0m     )\n\u001b[1;32m--> 311\u001b[0m \u001b[39mreturn\u001b[39;00m func(\u001b[39m*\u001b[39margs, \u001b[39m*\u001b[39m\u001b[39m*\u001b[39mkwargs)\n",
      "File \u001b[1;32mc:\\Program Files\\Python310\\lib\\site-packages\\pandas\\io\\excel\\_base.py:457\u001b[0m, in \u001b[0;36mread_excel\u001b[1;34m(io, sheet_name, header, names, index_col, usecols, squeeze, dtype, engine, converters, true_values, false_values, skiprows, nrows, na_values, keep_default_na, na_filter, verbose, parse_dates, date_parser, thousands, decimal, comment, skipfooter, convert_float, mangle_dupe_cols, storage_options)\u001b[0m\n\u001b[0;32m    455\u001b[0m \u001b[39mif\u001b[39;00m \u001b[39mnot\u001b[39;00m \u001b[39misinstance\u001b[39m(io, ExcelFile):\n\u001b[0;32m    456\u001b[0m     should_close \u001b[39m=\u001b[39m \u001b[39mTrue\u001b[39;00m\n\u001b[1;32m--> 457\u001b[0m     io \u001b[39m=\u001b[39m ExcelFile(io, storage_options\u001b[39m=\u001b[39;49mstorage_options, engine\u001b[39m=\u001b[39;49mengine)\n\u001b[0;32m    458\u001b[0m \u001b[39melif\u001b[39;00m engine \u001b[39mand\u001b[39;00m engine \u001b[39m!=\u001b[39m io\u001b[39m.\u001b[39mengine:\n\u001b[0;32m    459\u001b[0m     \u001b[39mraise\u001b[39;00m \u001b[39mValueError\u001b[39;00m(\n\u001b[0;32m    460\u001b[0m         \u001b[39m\"\u001b[39m\u001b[39mEngine should not be specified when passing \u001b[39m\u001b[39m\"\u001b[39m\n\u001b[0;32m    461\u001b[0m         \u001b[39m\"\u001b[39m\u001b[39man ExcelFile - ExcelFile already has the engine set\u001b[39m\u001b[39m\"\u001b[39m\n\u001b[0;32m    462\u001b[0m     )\n",
      "File \u001b[1;32mc:\\Program Files\\Python310\\lib\\site-packages\\pandas\\io\\excel\\_base.py:1380\u001b[0m, in \u001b[0;36mExcelFile.__init__\u001b[1;34m(self, path_or_buffer, engine, storage_options)\u001b[0m\n\u001b[0;32m   1376\u001b[0m     ext \u001b[39m=\u001b[39m inspect_excel_format(\n\u001b[0;32m   1377\u001b[0m         content_or_path\u001b[39m=\u001b[39mpath_or_buffer, storage_options\u001b[39m=\u001b[39mstorage_options\n\u001b[0;32m   1378\u001b[0m     )\n\u001b[0;32m   1379\u001b[0m     \u001b[39mif\u001b[39;00m ext \u001b[39mis\u001b[39;00m \u001b[39mNone\u001b[39;00m:\n\u001b[1;32m-> 1380\u001b[0m         \u001b[39mraise\u001b[39;00m \u001b[39mValueError\u001b[39;00m(\n\u001b[0;32m   1381\u001b[0m             \u001b[39m\"\u001b[39m\u001b[39mExcel file format cannot be determined, you must specify \u001b[39m\u001b[39m\"\u001b[39m\n\u001b[0;32m   1382\u001b[0m             \u001b[39m\"\u001b[39m\u001b[39man engine manually.\u001b[39m\u001b[39m\"\u001b[39m\n\u001b[0;32m   1383\u001b[0m         )\n\u001b[0;32m   1385\u001b[0m engine \u001b[39m=\u001b[39m config\u001b[39m.\u001b[39mget_option(\u001b[39mf\u001b[39m\u001b[39m\"\u001b[39m\u001b[39mio.excel.\u001b[39m\u001b[39m{\u001b[39;00mext\u001b[39m}\u001b[39;00m\u001b[39m.reader\u001b[39m\u001b[39m\"\u001b[39m, silent\u001b[39m=\u001b[39m\u001b[39mTrue\u001b[39;00m)\n\u001b[0;32m   1386\u001b[0m \u001b[39mif\u001b[39;00m engine \u001b[39m==\u001b[39m \u001b[39m\"\u001b[39m\u001b[39mauto\u001b[39m\u001b[39m\"\u001b[39m:\n",
      "\u001b[1;31mValueError\u001b[0m: Excel file format cannot be determined, you must specify an engine manually."
     ]
    }
   ],
   "source": [
    "\n",
    "print('> Choose a format for data extraction: \\n  1.Consolidated\\n  2.Individual Files')\n",
    "flag=int(input())\n",
    "\n",
    "if flag==1:\n",
    "    consolid()\n",
    "elif flag==2:\n",
    "    indivi()\n",
    "else:\n",
    "   print('Incorrect Selection')\n",
    "    "
   ]
  },
  {
   "cell_type": "code",
   "execution_count": null,
   "metadata": {},
   "outputs": [
    {
     "name": "stdout",
     "output_type": "stream",
     "text": [
      "!!!EXTRACTION SUCCESSFUL!!!\n"
     ]
    }
   ],
   "source": [
    "print('!!!EXTRACTION SUCCESSFUL!!!')"
   ]
  }
 ],
 "metadata": {
  "kernelspec": {
   "display_name": "Python 3",
   "language": "python",
   "name": "python3"
  },
  "language_info": {
   "codemirror_mode": {
    "name": "ipython",
    "version": 3
   },
   "file_extension": ".py",
   "mimetype": "text/x-python",
   "name": "python",
   "nbconvert_exporter": "python",
   "pygments_lexer": "ipython3",
   "version": "3.10.3"
  },
  "orig_nbformat": 4,
  "vscode": {
   "interpreter": {
    "hash": "26de051ba29f2982a8de78e945f0abaf191376122a1563185a90213a26c5da77"
   }
  }
 },
 "nbformat": 4,
 "nbformat_minor": 2
}
