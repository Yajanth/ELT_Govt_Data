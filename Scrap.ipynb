{
 "cells": [
  {
   "cell_type": "code",
   "execution_count": 4,
   "metadata": {},
   "outputs": [],
   "source": [
    "import pandas as pd\n",
    "from bs4 import BeautifulSoup\n",
    "import requests\n"
   ]
  },
  {
   "cell_type": "code",
   "execution_count": 5,
   "metadata": {},
   "outputs": [],
   "source": [
    "arr_url=[\n",
    "'paBkbufBFTQBsfWkPJFvzA%3D%3D',\n",
    "'wCcn7gPWS%252BccdYFGwkYbEQ%253D%253D',\n",
    "'JIiy0pXLc4BxBHuhMFKzMg%3D%3D',\n",
    "'50sNVIfVFw%2B%2BpEQk8kfQCA%3D%3D',\n",
    "'u6fk7PJ0d4n5mYqvt0GsXQ%3D%3D',\n",
    "'X1%2BcvIGnmzo8MdQIsPZO4Q%3D%3D',\n",
    "'eTusNJkJ8ZfPktZmur3Qig%253D%253D',\n",
    "'7pyMqmMhoUhjKhAQhD0lFA%3D%3D',\n",
    "'Uv7CQzO0fu9SPFdR7mwHiw',\n",
    "'UjezdLmxiU8nq2EG9%2FL9KA%3D%3D',\n",
    "'4nouBNAPaQtdxLMFkTO%2BNw%3D%3D',\n",
    "'6vC5V46kUwPAOkkHPEp2Iw%3D%3D',\n",
    "'W8fxmtx6kJaBYjHrSxJ9dw%3D%3D',\n",
    "'C4HIq6hx3B%2FRSg2u7NeYJw%3D%3D',\n",
    "'kBlvHJaYGeDpjiN7%2F0QUxA%3D%3D',\n",
    "'3Xc5XRMNmeVFHJ%2BL276HRA%3D%3D',\n",
    "'Y0gmyQjuuT4x4XKnYXOUow%3D%3D',\n",
    "'GJIwbGttIGQBFTg4IXyAew%3D%3D',\n",
    "'wwhIWlT6h3QyFG9qmTZsaA%3D%3D'\n",
    "]\n",
    "start=\"https://www.mca.gov.in/bin/dms/getdocument?mds=\"\n",
    "end='&type=download'"
   ]
  },
  {
   "cell_type": "code",
   "execution_count": 11,
   "metadata": {},
   "outputs": [
    {
     "name": "stdout",
     "output_type": "stream",
     "text": [
      "> Choose a format for data extraction: \n",
      "  1.Consolidated\n",
      "  2.Individual Files\n"
     ]
    },
    {
     "data": {
      "text/plain": [
       "int"
      ]
     },
     "execution_count": 11,
     "metadata": {},
     "output_type": "execute_result"
    }
   ],
   "source": [
    "# flag=str(input('Enter the format for data extraction: \\n 0:y.Consolidated\\n 2:Individual Files '))\n",
    "print('> Choose a format for data extraction: \\n  1.Consolidated\\n  2.Individual Files')\n",
    "flag=int(input())\n",
    "type(flag)\n"
   ]
  },
  {
   "cell_type": "code",
   "execution_count": 13,
   "metadata": {},
   "outputs": [],
   "source": [
    "\n",
    "\n",
    "if flag==1:\n",
    "    consolidated=pd.DataFrame()\n",
    "    for i in range(0,19):\n",
    "        url=start+str(arr_url[i])+end\n",
    "        data=requests.get(url)\n",
    "        output = open('test.xlsx', 'ab')\n",
    "        output.write(data.content)\n",
    "        output.close()\n",
    "        test=pd.read_excel('test.xlsx')\n",
    "        consolidated=consolidated.append(test)\n",
    "\n",
    "    consolidated.to_csv('Consolidated.csv')\n",
    "\n",
    "\n",
    "elif flag==2:\n",
    "\n",
    "      def indivi():\n",
    "            url=start+str(arr_url[0])+end\n",
    "            data=requests.get(url)\n",
    "            output = open('2022_December.xlsx', 'wb')\n",
    "            output.write(data.content)\n",
    "            output.close()\n",
    "\n",
    "            url=start+str(arr_url[1])+end\n",
    "            data=requests.get(url)\n",
    "            output = open('2022_November.xlsx', 'wb')\n",
    "            output.write(data.content)\n",
    "            output.close()\n",
    "\n",
    "            url=start+str(arr_url[2])+end\n",
    "            data=requests.get(url)\n",
    "            output = open('2022_October.xlsx', 'wb')\n",
    "            output.write(data.content)\n",
    "            output.close()\n",
    "\n",
    "            url=start+str(arr_url[3])+end\n",
    "            data=requests.get(url)\n",
    "            output = open('2022_September.xlsx', 'wb')\n",
    "            output.write(data.content)\n",
    "            output.close()\n",
    "\n",
    "            url=start+str(arr_url[4])+end\n",
    "            data=requests.get(url)\n",
    "            output = open('2022_August.xlsx', 'wb')\n",
    "            output.write(data.content)\n",
    "            output.close()\n",
    "            \n",
    "            url=start+str(arr_url[5])+end\n",
    "            data=requests.get(url)\n",
    "            output = open('2022_July.xlsx', 'wb')\n",
    "            output.write(data.content)\n",
    "            output.close()\n",
    "\n",
    "            url=start+str(arr_url[6])+end\n",
    "            data=requests.get(url)\n",
    "            output = open('2022_June.xlsx', 'wb')\n",
    "            output.write(data.content)\n",
    "            output.close()\n",
    "\n",
    "            url=start+str(arr_url[7])+end\n",
    "            data=requests.get(url)\n",
    "            output = open('2022_May.xlsx', 'wb')\n",
    "            output.write(data.content)\n",
    "            output.close()\n",
    "\n",
    "            url=start+str(arr_url[8])+end\n",
    "            data=requests.get(url)\n",
    "            output = open('2022_April.xlsx', 'wb')\n",
    "            output.write(data.content)\n",
    "            output.close()\n",
    "\n",
    "            url=start+str(arr_url[9])+end\n",
    "            data=requests.get(url)\n",
    "            output = open('2022_Febuary.xlsx', 'wb')\n",
    "            output.write(data.content)\n",
    "            output.close()\n",
    "\n",
    "            url=start+str(arr_url[10])+end\n",
    "            data=requests.get(url)\n",
    "            output = open('2022_January.xlsx', 'wb')\n",
    "            output.write(data.content)\n",
    "            output.close()\n",
    "\n",
    "            url=start+str(arr_url[11])+end\n",
    "            data=requests.get(url)\n",
    "            output = open('2021_October.xlsx', 'wb')\n",
    "            output.write(data.content)\n",
    "            output.close()\n",
    "\n",
    "            url=start+str(arr_url[12])+end\n",
    "            data=requests.get(url)\n",
    "            output = open('2021_September.xlsx', 'wb')\n",
    "            output.write(data.content)\n",
    "            output.close()\n",
    "\n",
    "            url=start+str(arr_url[13])+end\n",
    "            data=requests.get(url)\n",
    "            output = open('2021_August.xlsx', 'wb')\n",
    "            output.write(data.content)\n",
    "            output.close()\n",
    "\n",
    "            url=start+str(arr_url[14])+end\n",
    "            data=requests.get(url)\n",
    "            output = open('2021_July.xlsx', 'wb')\n",
    "            output.write(data.content)\n",
    "            output.close()\n",
    "\n",
    "            url=start+str(arr_url[15])+end\n",
    "            data=requests.get(url)\n",
    "            output = open('2021_June.xlsx', 'wb')\n",
    "            output.write(data.content)\n",
    "            output.close()\n",
    "\n",
    "            url=start+str(arr_url[16])+end\n",
    "            data=requests.get(url)\n",
    "            output = open('2021_May.xlsx', 'wb')\n",
    "            output.write(data.content)\n",
    "            output.close()\n",
    "\n",
    "            url=start+str(arr_url[17])+end\n",
    "            data=requests.get(url)\n",
    "            output = open('2021_April.xlsx', 'wb')\n",
    "            output.write(data.content)\n",
    "            output.close()\n",
    "\n",
    "            url=start+str(arr_url[18])+end\n",
    "            data=requests.get(url)\n",
    "            output = open('2021_March.xlsx', 'wb')\n",
    "            output.write(data.content)\n",
    "            output.close()\n"
   ]
  },
  {
   "cell_type": "code",
   "execution_count": 10,
   "metadata": {},
   "outputs": [
    {
     "name": "stdout",
     "output_type": "stream",
     "text": [
      "!!!EXTRACTION SUCCESSFUL!!!\n"
     ]
    }
   ],
   "source": [
    "print('!!!EXTRACTION SUCCESSFUL!!!')"
   ]
  }
 ],
 "metadata": {
  "kernelspec": {
   "display_name": "Python 3",
   "language": "python",
   "name": "python3"
  },
  "language_info": {
   "codemirror_mode": {
    "name": "ipython",
    "version": 3
   },
   "file_extension": ".py",
   "mimetype": "text/x-python",
   "name": "python",
   "nbconvert_exporter": "python",
   "pygments_lexer": "ipython3",
   "version": "3.10.3"
  },
  "orig_nbformat": 4,
  "vscode": {
   "interpreter": {
    "hash": "26de051ba29f2982a8de78e945f0abaf191376122a1563185a90213a26c5da77"
   }
  }
 },
 "nbformat": 4,
 "nbformat_minor": 2
}
